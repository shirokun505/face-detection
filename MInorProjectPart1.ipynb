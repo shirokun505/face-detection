{
 "cells": [
  {
   "cell_type": "markdown",
   "id": "9f21b831",
   "metadata": {},
   "source": [
    "#              PYTHON AI ASSIGNMENT"
   ]
  },
  {
   "cell_type": "markdown",
   "id": "5003d1a8",
   "metadata": {},
   "source": [
    "### 1.Take a list of elements from the user and find the square root of each number in the list and store in it another list and print that list"
   ]
  },
  {
   "cell_type": "code",
   "execution_count": 3,
   "id": "34acb24b",
   "metadata": {},
   "outputs": [
    {
     "name": "stdout",
     "output_type": "stream",
     "text": [
      "Enter the size of the list5\n",
      "10\n",
      "20\n",
      "30\n",
      "40\n",
      "50\n",
      "[100, 400, 900, 1600, 2500]\n"
     ]
    }
   ],
   "source": [
    "n=int(input(\"Enter the size of the list\"))\n",
    "l=[(int(input()))**2 for i in range(n)]\n",
    "print(l)"
   ]
  },
  {
   "cell_type": "markdown",
   "id": "290e43d9",
   "metadata": {},
   "source": [
    "### 2.Write a function which prints all the numbers divisible by 3 and 5"
   ]
  },
  {
   "cell_type": "code",
   "execution_count": 8,
   "id": "31f9a369",
   "metadata": {},
   "outputs": [
    {
     "name": "stdout",
     "output_type": "stream",
     "text": [
      "Enter range:100\n",
      "0\n",
      "15\n",
      "30\n",
      "45\n",
      "60\n",
      "75\n",
      "90\n"
     ]
    }
   ],
   "source": [
    "def divi(r):\n",
    "    l=[i for i in range(r) if i%3==0 and i%5==0]\n",
    "    for i in l:\n",
    "        print(i)\n",
    "r=int(input(\"Enter range:\"))\n",
    "divi(r)"
   ]
  },
  {
   "cell_type": "markdown",
   "id": "d737189f",
   "metadata": {},
   "source": [
    "### 3.Write a program to check whether a given letter is vowel or consonant"
   ]
  },
  {
   "cell_type": "code",
   "execution_count": 9,
   "id": "ac0c4c1b",
   "metadata": {},
   "outputs": [
    {
     "name": "stdout",
     "output_type": "stream",
     "text": [
      "Enter Character:a\n",
      "Vowel\n"
     ]
    }
   ],
   "source": [
    "import string\n",
    "x=input(\"Enter Character:\")\n",
    "x=x.lower()\n",
    "if (x == 'a' or x == 'e' or\n",
    "        x == 'i' or x == 'o' or x == 'u'):\n",
    "        print(\"Vowel\")\n",
    "else:\n",
    "        print(\"Consonant\")\n"
   ]
  },
  {
   "cell_type": "markdown",
   "id": "23b45ec4",
   "metadata": {},
   "source": [
    "## 4.Calculate the distance between 2 characters given by the user"
   ]
  },
  {
   "cell_type": "code",
   "execution_count": 12,
   "id": "69d0d00b",
   "metadata": {},
   "outputs": [
    {
     "name": "stdout",
     "output_type": "stream",
     "text": [
      "Enter first character:a\n",
      "Enter second character:d\n",
      "3\n"
     ]
    }
   ],
   "source": [
    "a=input(\"Enter first character:\")\n",
    "b=input(\"Enter second character:\")\n",
    "if(ord(a)>ord(b)):\n",
    "    print(ord(a)-ord(b))\n",
    "else:\n",
    "    print(ord(b)-ord(a))\n"
   ]
  },
  {
   "cell_type": "markdown",
   "id": "14404348",
   "metadata": {},
   "source": [
    "## 5.Write a fuction which returns the number of vowels present in a given string"
   ]
  },
  {
   "cell_type": "code",
   "execution_count": 14,
   "id": "ea0611b2",
   "metadata": {},
   "outputs": [
    {
     "name": "stdout",
     "output_type": "stream",
     "text": [
      "Enter a string:Artificial\n",
      "Number of vowels in the string: 5\n"
     ]
    }
   ],
   "source": [
    "a=input(\"Enter a string:\").lower()\n",
    "c=0\n",
    "for x in a:\n",
    "     if (x == 'a' or x == 'e' or\n",
    "        x == 'i' or x == 'o' or x == 'u'):\n",
    "            c=c+1\n",
    "print(\"Number of vowels in the string:\",c)\n",
    "\n"
   ]
  },
  {
   "cell_type": "markdown",
   "id": "b05db686",
   "metadata": {},
   "source": [
    "## 6.Print all the alphabets using loop and ascii code"
   ]
  },
  {
   "cell_type": "code",
   "execution_count": 17,
   "id": "878f427a",
   "metadata": {},
   "outputs": [
    {
     "name": "stdout",
     "output_type": "stream",
     "text": [
      "a b c d e f g h i j k l m n o p q r s t u v w x y z "
     ]
    }
   ],
   "source": [
    "for i in range(97,123):\n",
    "    print(chr(i),end=\" \")"
   ]
  },
  {
   "cell_type": "markdown",
   "id": "82f71030",
   "metadata": {},
   "source": [
    "## 7.Write a program to calculate the sum of all even numbers of a list"
   ]
  },
  {
   "cell_type": "code",
   "execution_count": 23,
   "id": "56854f2c",
   "metadata": {},
   "outputs": [
    {
     "name": "stdout",
     "output_type": "stream",
     "text": [
      "Enter the size of list:5\n",
      "Enter element:24\n",
      "Enter element:31\n",
      "Enter element:40\n",
      "Enter element:13\n",
      "Enter element:5\n",
      "Sum of even numbers: 64\n"
     ]
    }
   ],
   "source": [
    "l=[]\n",
    "s1=0\n",
    "s=int(input(\"Enter the size of list:\"))\n",
    "for i in range(s):\n",
    "    n=int(input(\"Enter element:\"))\n",
    "    l.append(n)\n",
    "    if l[i]%2==0:\n",
    "        s1=s1+l[i]\n",
    "print(\"Sum of even numbers:\",s1)"
   ]
  },
  {
   "cell_type": "markdown",
   "id": "9bdc2d16",
   "metadata": {},
   "source": [
    "## 8.Write a program to print the squares of all numbers,except for the factors of 3"
   ]
  },
  {
   "cell_type": "code",
   "execution_count": 28,
   "id": "bf95ca1d",
   "metadata": {},
   "outputs": [
    {
     "name": "stdout",
     "output_type": "stream",
     "text": [
      "Enter the range:50\n",
      "1 4 16 25 49 64 100 121 169 196 256 289 361 400 484 529 625 676 784 841 961 1024 1156 1225 1369 1444 1600 1681 1849 1936 2116 2209 2401 "
     ]
    }
   ],
   "source": [
    "r=int(input(\"Enter the range:\"))\n",
    "for i in range(r):\n",
    "    if i%3==0:\n",
    "        continue\n",
    "    else:\n",
    "        print(i**2,end=\" \")\n"
   ]
  },
  {
   "cell_type": "markdown",
   "id": "03a4869d",
   "metadata": {},
   "source": [
    "## 9.Take 2 strings from the user and then replace all the A's with a's and then concatenate the 2 strings and print"
   ]
  },
  {
   "cell_type": "code",
   "execution_count": 29,
   "id": "9b3c237e",
   "metadata": {},
   "outputs": [
    {
     "name": "stdout",
     "output_type": "stream",
     "text": [
      "Enter first string:Anish\n",
      "Enter second string:Routh\n",
      "anishRouth\n"
     ]
    }
   ],
   "source": [
    "a=input(\"Enter first string:\")\n",
    "b=input(\"Enter second string:\")\n",
    "a=a.replace('A','a')\n",
    "b=b.replace('A','a')\n",
    "print(a+b)   "
   ]
  },
  {
   "cell_type": "markdown",
   "id": "c57e02c8",
   "metadata": {},
   "source": [
    "## 10.Write a program to get a list of odd number from the list of numbers given by user(use list comprehension)"
   ]
  },
  {
   "cell_type": "code",
   "execution_count": 31,
   "id": "8dd8acc7",
   "metadata": {},
   "outputs": [
    {
     "name": "stdout",
     "output_type": "stream",
     "text": [
      "Enter the size of list:5\n",
      "10\n",
      "5\n",
      "7\n",
      "6\n",
      "3\n",
      "[5, 7, 3]\n"
     ]
    }
   ],
   "source": [
    "r=int(input(\"Enter the size of list:\"))\n",
    "l=[ int(input()) for i in range(r) ]\n",
    "l1=[i for i in l if i%2!=0]\n",
    "print(l1)\n",
    "\n",
    "    "
   ]
  },
  {
   "cell_type": "markdown",
   "id": "ceb4a223",
   "metadata": {},
   "source": [
    "## 11.Write a program to print lower when you have upper letter in string and vice versa"
   ]
  },
  {
   "cell_type": "code",
   "execution_count": 33,
   "id": "e28845b2",
   "metadata": {},
   "outputs": [
    {
     "name": "stdout",
     "output_type": "stream",
     "text": [
      "Enter string:AnIsH\n",
      "aNiSh\n"
     ]
    }
   ],
   "source": [
    "x=input(\"Enter string:\")\n",
    "x1=\"\"\n",
    "for i in x:\n",
    "    if i.islower():\n",
    "        x1=x1+i.upper()\n",
    "    else:\n",
    "        x1=x1+i.lower()\n",
    "print(x1)"
   ]
  },
  {
   "cell_type": "code",
   "execution_count": null,
   "id": "ea2c3b83",
   "metadata": {},
   "outputs": [],
   "source": []
  }
 ],
 "metadata": {
  "kernelspec": {
   "display_name": "base",
   "language": "python",
   "name": "python3"
  },
  "language_info": {
   "codemirror_mode": {
    "name": "ipython",
    "version": 3
   },
   "file_extension": ".py",
   "mimetype": "text/x-python",
   "name": "python",
   "nbconvert_exporter": "python",
   "pygments_lexer": "ipython3",
   "version": "3.9.13"
  },
  "vscode": {
   "interpreter": {
    "hash": "57bc2b6ce032b5f0e93daa91901b7ea38a856826ef43aa9e95b6d3999f5310df"
   }
  }
 },
 "nbformat": 4,
 "nbformat_minor": 5
}
